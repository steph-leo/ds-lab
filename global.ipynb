{
 "cells": [
  {
   "cell_type": "code",
   "execution_count": 1,
   "metadata": {},
   "outputs": [],
   "source": [
    "import sqlite3\n"
   ]
  },
  {
   "cell_type": "code",
   "execution_count": 2,
   "metadata": {},
   "outputs": [
    {
     "name": "stdout",
     "output_type": "stream",
     "text": [
      "Requirement already satisfied: pandas in /home/stephano/Desktop/projects/stephano-leo/ds-lab/myenv/lib/python3.12/site-packages (2.2.3)\n",
      "Requirement already satisfied: numpy>=1.26.0 in /home/stephano/Desktop/projects/stephano-leo/ds-lab/myenv/lib/python3.12/site-packages (from pandas) (2.2.3)\n",
      "Requirement already satisfied: python-dateutil>=2.8.2 in /home/stephano/Desktop/projects/stephano-leo/ds-lab/myenv/lib/python3.12/site-packages (from pandas) (2.9.0.post0)\n",
      "Requirement already satisfied: pytz>=2020.1 in /home/stephano/Desktop/projects/stephano-leo/ds-lab/myenv/lib/python3.12/site-packages (from pandas) (2025.1)\n",
      "Requirement already satisfied: tzdata>=2022.7 in /home/stephano/Desktop/projects/stephano-leo/ds-lab/myenv/lib/python3.12/site-packages (from pandas) (2025.1)\n",
      "Requirement already satisfied: six>=1.5 in /home/stephano/Desktop/projects/stephano-leo/ds-lab/myenv/lib/python3.12/site-packages (from python-dateutil>=2.8.2->pandas) (1.17.0)\n",
      "\n",
      "\u001b[1m[\u001b[0m\u001b[34;49mnotice\u001b[0m\u001b[1;39;49m]\u001b[0m\u001b[39;49m A new release of pip is available: \u001b[0m\u001b[31;49m24.3.1\u001b[0m\u001b[39;49m -> \u001b[0m\u001b[32;49m25.0.1\u001b[0m\n",
      "\u001b[1m[\u001b[0m\u001b[34;49mnotice\u001b[0m\u001b[1;39;49m]\u001b[0m\u001b[39;49m To update, run: \u001b[0m\u001b[32;49mpip install --upgrade pip\u001b[0m\n",
      "Note: you may need to restart the kernel to use updated packages.\n"
     ]
    }
   ],
   "source": [
    "pip install pandas \n"
   ]
  },
  {
   "cell_type": "code",
   "execution_count": 3,
   "metadata": {},
   "outputs": [],
   "source": [
    "\n",
    "import pandas as pd\n",
    "\n"
   ]
  },
  {
   "cell_type": "code",
   "execution_count": 4,
   "metadata": {},
   "outputs": [
    {
     "name": "stdout",
     "output_type": "stream",
     "text": [
      "Requirement already satisfied: jupysql in /home/stephano/Desktop/projects/stephano-leo/ds-lab/myenv/lib/python3.12/site-packages (0.11.0)\n",
      "Requirement already satisfied: prettytable>=3.12.0 in /home/stephano/Desktop/projects/stephano-leo/ds-lab/myenv/lib/python3.12/site-packages (from jupysql) (3.15.1)\n",
      "Requirement already satisfied: sqlalchemy in /home/stephano/Desktop/projects/stephano-leo/ds-lab/myenv/lib/python3.12/site-packages (from jupysql) (2.0.38)\n",
      "Requirement already satisfied: sqlparse in /home/stephano/Desktop/projects/stephano-leo/ds-lab/myenv/lib/python3.12/site-packages (from jupysql) (0.5.3)\n",
      "Requirement already satisfied: ipython-genutils>=0.1.0 in /home/stephano/Desktop/projects/stephano-leo/ds-lab/myenv/lib/python3.12/site-packages (from jupysql) (0.2.0)\n",
      "Requirement already satisfied: jinja2 in /home/stephano/Desktop/projects/stephano-leo/ds-lab/myenv/lib/python3.12/site-packages (from jupysql) (3.1.5)\n",
      "Requirement already satisfied: sqlglot>=11.3.7 in /home/stephano/Desktop/projects/stephano-leo/ds-lab/myenv/lib/python3.12/site-packages (from jupysql) (26.8.0)\n",
      "Requirement already satisfied: jupysql-plugin>=0.4.2 in /home/stephano/Desktop/projects/stephano-leo/ds-lab/myenv/lib/python3.12/site-packages (from jupysql) (0.4.5)\n",
      "Requirement already satisfied: ploomber-core>=0.2.7 in /home/stephano/Desktop/projects/stephano-leo/ds-lab/myenv/lib/python3.12/site-packages (from jupysql) (0.2.26)\n",
      "Requirement already satisfied: pyyaml in /home/stephano/Desktop/projects/stephano-leo/ds-lab/myenv/lib/python3.12/site-packages (from ploomber-core>=0.2.7->jupysql) (6.0.2)\n",
      "Requirement already satisfied: posthog in /home/stephano/Desktop/projects/stephano-leo/ds-lab/myenv/lib/python3.12/site-packages (from ploomber-core>=0.2.7->jupysql) (3.18.1)\n",
      "Requirement already satisfied: wcwidth in /home/stephano/Desktop/projects/stephano-leo/ds-lab/myenv/lib/python3.12/site-packages (from prettytable>=3.12.0->jupysql) (0.2.13)\n",
      "Requirement already satisfied: MarkupSafe>=2.0 in /home/stephano/Desktop/projects/stephano-leo/ds-lab/myenv/lib/python3.12/site-packages (from jinja2->jupysql) (3.0.2)\n",
      "Requirement already satisfied: greenlet!=0.4.17 in /home/stephano/Desktop/projects/stephano-leo/ds-lab/myenv/lib/python3.12/site-packages (from sqlalchemy->jupysql) (3.1.1)\n",
      "Requirement already satisfied: typing-extensions>=4.6.0 in /home/stephano/Desktop/projects/stephano-leo/ds-lab/myenv/lib/python3.12/site-packages (from sqlalchemy->jupysql) (4.12.2)\n",
      "Requirement already satisfied: requests<3.0,>=2.7 in /home/stephano/Desktop/projects/stephano-leo/ds-lab/myenv/lib/python3.12/site-packages (from posthog->ploomber-core>=0.2.7->jupysql) (2.32.3)\n",
      "Requirement already satisfied: six>=1.5 in /home/stephano/Desktop/projects/stephano-leo/ds-lab/myenv/lib/python3.12/site-packages (from posthog->ploomber-core>=0.2.7->jupysql) (1.17.0)\n",
      "Requirement already satisfied: monotonic>=1.5 in /home/stephano/Desktop/projects/stephano-leo/ds-lab/myenv/lib/python3.12/site-packages (from posthog->ploomber-core>=0.2.7->jupysql) (1.6)\n",
      "Requirement already satisfied: backoff>=1.10.0 in /home/stephano/Desktop/projects/stephano-leo/ds-lab/myenv/lib/python3.12/site-packages (from posthog->ploomber-core>=0.2.7->jupysql) (2.2.1)\n",
      "Requirement already satisfied: python-dateutil>2.1 in /home/stephano/Desktop/projects/stephano-leo/ds-lab/myenv/lib/python3.12/site-packages (from posthog->ploomber-core>=0.2.7->jupysql) (2.9.0.post0)\n",
      "Requirement already satisfied: distro>=1.5.0 in /home/stephano/Desktop/projects/stephano-leo/ds-lab/myenv/lib/python3.12/site-packages (from posthog->ploomber-core>=0.2.7->jupysql) (1.9.0)\n",
      "Requirement already satisfied: charset-normalizer<4,>=2 in /home/stephano/Desktop/projects/stephano-leo/ds-lab/myenv/lib/python3.12/site-packages (from requests<3.0,>=2.7->posthog->ploomber-core>=0.2.7->jupysql) (3.4.1)\n",
      "Requirement already satisfied: idna<4,>=2.5 in /home/stephano/Desktop/projects/stephano-leo/ds-lab/myenv/lib/python3.12/site-packages (from requests<3.0,>=2.7->posthog->ploomber-core>=0.2.7->jupysql) (3.10)\n",
      "Requirement already satisfied: urllib3<3,>=1.21.1 in /home/stephano/Desktop/projects/stephano-leo/ds-lab/myenv/lib/python3.12/site-packages (from requests<3.0,>=2.7->posthog->ploomber-core>=0.2.7->jupysql) (2.3.0)\n",
      "Requirement already satisfied: certifi>=2017.4.17 in /home/stephano/Desktop/projects/stephano-leo/ds-lab/myenv/lib/python3.12/site-packages (from requests<3.0,>=2.7->posthog->ploomber-core>=0.2.7->jupysql) (2025.1.31)\n",
      "\n",
      "\u001b[1m[\u001b[0m\u001b[34;49mnotice\u001b[0m\u001b[1;39;49m]\u001b[0m\u001b[39;49m A new release of pip is available: \u001b[0m\u001b[31;49m24.3.1\u001b[0m\u001b[39;49m -> \u001b[0m\u001b[32;49m25.0.1\u001b[0m\n",
      "\u001b[1m[\u001b[0m\u001b[34;49mnotice\u001b[0m\u001b[1;39;49m]\u001b[0m\u001b[39;49m To update, run: \u001b[0m\u001b[32;49mpip install --upgrade pip\u001b[0m\n",
      "Note: you may need to restart the kernel to use updated packages.\n"
     ]
    }
   ],
   "source": [
    "pip install jupysql --upgrade"
   ]
  },
  {
   "cell_type": "code",
   "execution_count": 5,
   "metadata": {},
   "outputs": [],
   "source": [
    "%load_ext sql"
   ]
  },
  {
   "cell_type": "code",
   "execution_count": 6,
   "metadata": {},
   "outputs": [
    {
     "name": "stdout",
     "output_type": "stream",
     "text": [
      "True\n",
      "True\n"
     ]
    }
   ],
   "source": [
    "import os\n",
    "print(os.path.exists(\"olist.sqlite\"))  # Absolute path\n",
    "print(os.path.exists(\"olist.sqlite\"))   # Relative path\n"
   ]
  },
  {
   "cell_type": "code",
   "execution_count": 7,
   "metadata": {},
   "outputs": [
    {
     "data": {
      "text/html": [
       "<span style=\"None\">Connecting to &#x27;sqlite:///olist.sqlite&#x27;</span>"
      ],
      "text/plain": [
       "Connecting to 'sqlite:///olist.sqlite'"
      ]
     },
     "metadata": {},
     "output_type": "display_data"
    }
   ],
   "source": [
    "%sql sqlite:///olist.sqlite"
   ]
  },
  {
   "cell_type": "code",
   "execution_count": 8,
   "metadata": {},
   "outputs": [
    {
     "data": {
      "text/html": [
       "<span style=\"None\">Running query in &#x27;sqlite:///olist.sqlite&#x27;</span>"
      ],
      "text/plain": [
       "Running query in 'sqlite:///olist.sqlite'"
      ]
     },
     "metadata": {},
     "output_type": "display_data"
    },
    {
     "data": {
      "text/html": [
       "<table>\n",
       "    <thead>\n",
       "        <tr>\n",
       "            <th>type</th>\n",
       "            <th>name</th>\n",
       "            <th>tbl_name</th>\n",
       "            <th>rootpage</th>\n",
       "            <th>sql</th>\n",
       "        </tr>\n",
       "    </thead>\n",
       "    <tbody>\n",
       "        <tr>\n",
       "            <td>table</td>\n",
       "            <td>product_category_name_translation</td>\n",
       "            <td>product_category_name_translation</td>\n",
       "            <td>2</td>\n",
       "            <td>CREATE TABLE \"product_category_name_translation\" (<br>\"product_category_name\" TEXT,<br>  \"product_category_name_english\" TEXT<br>)</td>\n",
       "        </tr>\n",
       "        <tr>\n",
       "            <td>table</td>\n",
       "            <td>sellers</td>\n",
       "            <td>sellers</td>\n",
       "            <td>3</td>\n",
       "            <td>CREATE TABLE \"sellers\" (<br>\"seller_id\" TEXT,<br>  \"seller_zip_code_prefix\" INTEGER,<br>  \"seller_city\" TEXT,<br>  \"seller_state\" TEXT<br>)</td>\n",
       "        </tr>\n",
       "        <tr>\n",
       "            <td>table</td>\n",
       "            <td>customers</td>\n",
       "            <td>customers</td>\n",
       "            <td>48</td>\n",
       "            <td>CREATE TABLE \"customers\" (<br>\"customer_id\" TEXT,<br>  \"customer_unique_id\" TEXT,<br>  \"customer_zip_code_prefix\" INTEGER,<br>  \"customer_city\" TEXT,<br>  \"customer_state\" TEXT<br>)</td>\n",
       "        </tr>\n",
       "        <tr>\n",
       "            <td>table</td>\n",
       "            <td>geolocation</td>\n",
       "            <td>geolocation</td>\n",
       "            <td>2282</td>\n",
       "            <td>CREATE TABLE \"geolocation\" (<br>\"geolocation_zip_code_prefix\" INTEGER,<br>  \"geolocation_lat\" REAL,<br>  \"geolocation_lng\" REAL,<br>  \"geolocation_city\" TEXT,<br>  \"geolocation_state\" TEXT<br>)</td>\n",
       "        </tr>\n",
       "        <tr>\n",
       "            <td>table</td>\n",
       "            <td>order_items</td>\n",
       "            <td>order_items</td>\n",
       "            <td>12881</td>\n",
       "            <td>CREATE TABLE \"order_items\" (<br>\"order_id\" TEXT,<br>  \"order_item_id\" INTEGER,<br>  \"product_id\" TEXT,<br>  \"seller_id\" TEXT,<br>  \"shipping_limit_date\" TEXT,<br>  \"price\" REAL,<br>  \"freight_value\" REAL<br>)</td>\n",
       "        </tr>\n",
       "        <tr>\n",
       "            <td>table</td>\n",
       "            <td>order_payments</td>\n",
       "            <td>order_payments</td>\n",
       "            <td>16916</td>\n",
       "            <td>CREATE TABLE \"order_payments\" (<br>\"order_id\" TEXT,<br>  \"payment_sequential\" INTEGER,<br>  \"payment_type\" TEXT,<br>  \"payment_installments\" INTEGER,<br>  \"payment_value\" REAL<br>)</td>\n",
       "        </tr>\n",
       "        <tr>\n",
       "            <td>table</td>\n",
       "            <td>order_reviews</td>\n",
       "            <td>order_reviews</td>\n",
       "            <td>18508</td>\n",
       "            <td>CREATE TABLE \"order_reviews\" (<br>\"review_id\" TEXT,<br>  \"order_id\" TEXT,<br>  \"review_score\" INTEGER,<br>  \"review_comment_title\" TEXT,<br>  \"review_comment_message\" TEXT,<br>  \"review_creation_date\" TEXT,<br>  \"review_answer_timestamp\" TEXT<br>)</td>\n",
       "        </tr>\n",
       "        <tr>\n",
       "            <td>table</td>\n",
       "            <td>orders</td>\n",
       "            <td>orders</td>\n",
       "            <td>22174</td>\n",
       "            <td>CREATE TABLE \"orders\" (<br>\"order_id\" TEXT,<br>  \"customer_id\" TEXT,<br>  \"order_status\" TEXT,<br>  \"order_purchase_timestamp\" TEXT,<br>  \"order_approved_at\" TEXT,<br>  \"order_delivered_carrier_date\" TEXT,<br>  \"order_delivered_customer_date\" TEXT,<br>  \"order_estimated_delivery_date\" TEXT<br>)</td>\n",
       "        </tr>\n",
       "        <tr>\n",
       "            <td>table</td>\n",
       "            <td>products</td>\n",
       "            <td>products</td>\n",
       "            <td>26706</td>\n",
       "            <td>CREATE TABLE \"products\" (<br>\"product_id\" TEXT,<br>  \"product_category_name\" TEXT,<br>  \"product_name_lenght\" REAL,<br>  \"product_description_lenght\" REAL,<br>  \"product_photos_qty\" REAL,<br>  \"product_weight_g\" REAL,<br>  \"product_length_cm\" REAL,<br>  \"product_height_cm\" REAL,<br>  \"product_width_cm\" REAL<br>)</td>\n",
       "        </tr>\n",
       "        <tr>\n",
       "            <td>table</td>\n",
       "            <td>leads_qualified</td>\n",
       "            <td>leads_qualified</td>\n",
       "            <td>27283</td>\n",
       "            <td>CREATE TABLE \"leads_qualified\" (<br>\"mql_id\" TEXT,<br>  \"first_contact_date\" TEXT,<br>  \"landing_page_id\" TEXT,<br>  \"origin\" TEXT<br>)</td>\n",
       "        </tr>\n",
       "    </tbody>\n",
       "</table>\n",
       "<span style=\"font-style:italic;text-align:center;\">Truncated to <a href=\"https://jupysql.ploomber.io/en/latest/api/configuration.html#displaylimit\">displaylimit</a> of 10.</span>"
      ],
      "text/plain": [
       "+-------+-----------------------------------+-----------------------------------+----------+----------------------------------------------------+\n",
       "|  type |                name               |              tbl_name             | rootpage |                        sql                         |\n",
       "+-------+-----------------------------------+-----------------------------------+----------+----------------------------------------------------+\n",
       "| table | product_category_name_translation | product_category_name_translation |    2     | CREATE TABLE \"product_category_name_translation\" ( |\n",
       "|       |                                   |                                   |          |           \"product_category_name\" TEXT,            |\n",
       "|       |                                   |                                   |          |         \"product_category_name_english\" TEXT       |\n",
       "|       |                                   |                                   |          |                         )                          |\n",
       "| table |              sellers              |              sellers              |    3     |              CREATE TABLE \"sellers\" (              |\n",
       "|       |                                   |                                   |          |                 \"seller_id\" TEXT,                  |\n",
       "|       |                                   |                                   |          |          \"seller_zip_code_prefix\" INTEGER,         |\n",
       "|       |                                   |                                   |          |                 \"seller_city\" TEXT,                |\n",
       "|       |                                   |                                   |          |                 \"seller_state\" TEXT                |\n",
       "|       |                                   |                                   |          |                         )                          |\n",
       "| table |             customers             |             customers             |    48    |             CREATE TABLE \"customers\" (             |\n",
       "|       |                                   |                                   |          |                \"customer_id\" TEXT,                 |\n",
       "|       |                                   |                                   |          |              \"customer_unique_id\" TEXT,            |\n",
       "|       |                                   |                                   |          |         \"customer_zip_code_prefix\" INTEGER,        |\n",
       "|       |                                   |                                   |          |                \"customer_city\" TEXT,               |\n",
       "|       |                                   |                                   |          |                \"customer_state\" TEXT               |\n",
       "|       |                                   |                                   |          |                         )                          |\n",
       "| table |            geolocation            |            geolocation            |   2282   |            CREATE TABLE \"geolocation\" (            |\n",
       "|       |                                   |                                   |          |       \"geolocation_zip_code_prefix\" INTEGER,       |\n",
       "|       |                                   |                                   |          |               \"geolocation_lat\" REAL,              |\n",
       "|       |                                   |                                   |          |               \"geolocation_lng\" REAL,              |\n",
       "|       |                                   |                                   |          |               \"geolocation_city\" TEXT,             |\n",
       "|       |                                   |                                   |          |               \"geolocation_state\" TEXT             |\n",
       "|       |                                   |                                   |          |                         )                          |\n",
       "| table |            order_items            |            order_items            |  12881   |            CREATE TABLE \"order_items\" (            |\n",
       "|       |                                   |                                   |          |                  \"order_id\" TEXT,                  |\n",
       "|       |                                   |                                   |          |               \"order_item_id\" INTEGER,             |\n",
       "|       |                                   |                                   |          |                  \"product_id\" TEXT,                |\n",
       "|       |                                   |                                   |          |                  \"seller_id\" TEXT,                 |\n",
       "|       |                                   |                                   |          |             \"shipping_limit_date\" TEXT,            |\n",
       "|       |                                   |                                   |          |                    \"price\" REAL,                   |\n",
       "|       |                                   |                                   |          |                 \"freight_value\" REAL               |\n",
       "|       |                                   |                                   |          |                         )                          |\n",
       "| table |           order_payments          |           order_payments          |  16916   |          CREATE TABLE \"order_payments\" (           |\n",
       "|       |                                   |                                   |          |                  \"order_id\" TEXT,                  |\n",
       "|       |                                   |                                   |          |            \"payment_sequential\" INTEGER,           |\n",
       "|       |                                   |                                   |          |                 \"payment_type\" TEXT,               |\n",
       "|       |                                   |                                   |          |           \"payment_installments\" INTEGER,          |\n",
       "|       |                                   |                                   |          |                 \"payment_value\" REAL               |\n",
       "|       |                                   |                                   |          |                         )                          |\n",
       "| table |           order_reviews           |           order_reviews           |  18508   |           CREATE TABLE \"order_reviews\" (           |\n",
       "|       |                                   |                                   |          |                 \"review_id\" TEXT,                  |\n",
       "|       |                                   |                                   |          |                   \"order_id\" TEXT,                 |\n",
       "|       |                                   |                                   |          |               \"review_score\" INTEGER,              |\n",
       "|       |                                   |                                   |          |             \"review_comment_title\" TEXT,           |\n",
       "|       |                                   |                                   |          |            \"review_comment_message\" TEXT,          |\n",
       "|       |                                   |                                   |          |             \"review_creation_date\" TEXT,           |\n",
       "|       |                                   |                                   |          |            \"review_answer_timestamp\" TEXT          |\n",
       "|       |                                   |                                   |          |                         )                          |\n",
       "| table |               orders              |               orders              |  22174   |              CREATE TABLE \"orders\" (               |\n",
       "|       |                                   |                                   |          |                  \"order_id\" TEXT,                  |\n",
       "|       |                                   |                                   |          |                 \"customer_id\" TEXT,                |\n",
       "|       |                                   |                                   |          |                 \"order_status\" TEXT,               |\n",
       "|       |                                   |                                   |          |           \"order_purchase_timestamp\" TEXT,         |\n",
       "|       |                                   |                                   |          |              \"order_approved_at\" TEXT,             |\n",
       "|       |                                   |                                   |          |         \"order_delivered_carrier_date\" TEXT,       |\n",
       "|       |                                   |                                   |          |        \"order_delivered_customer_date\" TEXT,       |\n",
       "|       |                                   |                                   |          |         \"order_estimated_delivery_date\" TEXT       |\n",
       "|       |                                   |                                   |          |                         )                          |\n",
       "| table |              products             |              products             |  26706   |             CREATE TABLE \"products\" (              |\n",
       "|       |                                   |                                   |          |                 \"product_id\" TEXT,                 |\n",
       "|       |                                   |                                   |          |            \"product_category_name\" TEXT,           |\n",
       "|       |                                   |                                   |          |             \"product_name_lenght\" REAL,            |\n",
       "|       |                                   |                                   |          |          \"product_description_lenght\" REAL,        |\n",
       "|       |                                   |                                   |          |              \"product_photos_qty\" REAL,            |\n",
       "|       |                                   |                                   |          |               \"product_weight_g\" REAL,             |\n",
       "|       |                                   |                                   |          |              \"product_length_cm\" REAL,             |\n",
       "|       |                                   |                                   |          |              \"product_height_cm\" REAL,             |\n",
       "|       |                                   |                                   |          |               \"product_width_cm\" REAL              |\n",
       "|       |                                   |                                   |          |                         )                          |\n",
       "| table |          leads_qualified          |          leads_qualified          |  27283   |          CREATE TABLE \"leads_qualified\" (          |\n",
       "|       |                                   |                                   |          |                   \"mql_id\" TEXT,                   |\n",
       "|       |                                   |                                   |          |              \"first_contact_date\" TEXT,            |\n",
       "|       |                                   |                                   |          |               \"landing_page_id\" TEXT,              |\n",
       "|       |                                   |                                   |          |                    \"origin\" TEXT                   |\n",
       "|       |                                   |                                   |          |                         )                          |\n",
       "+-------+-----------------------------------+-----------------------------------+----------+----------------------------------------------------+\n",
       "Truncated to displaylimit of 10."
      ]
     },
     "execution_count": 8,
     "metadata": {},
     "output_type": "execute_result"
    }
   ],
   "source": [
    "%%sql\n",
    "SELECT *\n",
    "FROM sqlite_schema"
   ]
  },
  {
   "cell_type": "code",
   "execution_count": 9,
   "metadata": {},
   "outputs": [
    {
     "data": {
      "text/html": [
       "<span style=\"None\">Running query in &#x27;sqlite:///olist.sqlite&#x27;</span>"
      ],
      "text/plain": [
       "Running query in 'sqlite:///olist.sqlite'"
      ]
     },
     "metadata": {},
     "output_type": "display_data"
    },
    {
     "data": {
      "text/html": [
       "<table>\n",
       "    <thead>\n",
       "        <tr>\n",
       "            <th>name</th>\n",
       "        </tr>\n",
       "    </thead>\n",
       "    <tbody>\n",
       "        <tr>\n",
       "            <td>product_category_name_translation</td>\n",
       "        </tr>\n",
       "        <tr>\n",
       "            <td>sellers</td>\n",
       "        </tr>\n",
       "        <tr>\n",
       "            <td>customers</td>\n",
       "        </tr>\n",
       "        <tr>\n",
       "            <td>geolocation</td>\n",
       "        </tr>\n",
       "        <tr>\n",
       "            <td>order_items</td>\n",
       "        </tr>\n",
       "        <tr>\n",
       "            <td>order_payments</td>\n",
       "        </tr>\n",
       "        <tr>\n",
       "            <td>order_reviews</td>\n",
       "        </tr>\n",
       "        <tr>\n",
       "            <td>orders</td>\n",
       "        </tr>\n",
       "        <tr>\n",
       "            <td>products</td>\n",
       "        </tr>\n",
       "        <tr>\n",
       "            <td>leads_qualified</td>\n",
       "        </tr>\n",
       "    </tbody>\n",
       "</table>\n",
       "<span style=\"font-style:italic;text-align:center;\">Truncated to <a href=\"https://jupysql.ploomber.io/en/latest/api/configuration.html#displaylimit\">displaylimit</a> of 10.</span>"
      ],
      "text/plain": [
       "+-----------------------------------+\n",
       "|                name               |\n",
       "+-----------------------------------+\n",
       "| product_category_name_translation |\n",
       "|              sellers              |\n",
       "|             customers             |\n",
       "|            geolocation            |\n",
       "|            order_items            |\n",
       "|           order_payments          |\n",
       "|           order_reviews           |\n",
       "|               orders              |\n",
       "|              products             |\n",
       "|          leads_qualified          |\n",
       "+-----------------------------------+\n",
       "Truncated to displaylimit of 10."
      ]
     },
     "execution_count": 9,
     "metadata": {},
     "output_type": "execute_result"
    }
   ],
   "source": [
    "%%sql\n",
    "SELECT name\n",
    "FROM sqlite_schema\n",
    "WHERE type = \"table\""
   ]
  },
  {
   "cell_type": "code",
   "execution_count": 10,
   "metadata": {},
   "outputs": [
    {
     "data": {
      "text/html": [
       "<span style=\"None\">Running query in &#x27;sqlite:///olist.sqlite&#x27;</span>"
      ],
      "text/plain": [
       "Running query in 'sqlite:///olist.sqlite'"
      ]
     },
     "metadata": {},
     "output_type": "display_data"
    },
    {
     "data": {
      "text/html": [
       "<table>\n",
       "    <thead>\n",
       "        <tr>\n",
       "            <th>seller_id</th>\n",
       "            <th>seller_zip_code_prefix</th>\n",
       "            <th>seller_city</th>\n",
       "            <th>seller_state</th>\n",
       "        </tr>\n",
       "    </thead>\n",
       "    <tbody>\n",
       "        <tr>\n",
       "            <td>3442f8959a84dea7ee197c632cb2df15</td>\n",
       "            <td>13023</td>\n",
       "            <td>campinas</td>\n",
       "            <td>SP</td>\n",
       "        </tr>\n",
       "        <tr>\n",
       "            <td>d1b65fc7debc3361ea86b5f14c68d2e2</td>\n",
       "            <td>13844</td>\n",
       "            <td>mogi guacu</td>\n",
       "            <td>SP</td>\n",
       "        </tr>\n",
       "        <tr>\n",
       "            <td>ce3ad9de960102d0677a81f5d0bb7b2d</td>\n",
       "            <td>20031</td>\n",
       "            <td>rio de janeiro</td>\n",
       "            <td>RJ</td>\n",
       "        </tr>\n",
       "        <tr>\n",
       "            <td>c0f3eea2e14555b6faeea3dd58c1b1c3</td>\n",
       "            <td>4195</td>\n",
       "            <td>sao paulo</td>\n",
       "            <td>SP</td>\n",
       "        </tr>\n",
       "        <tr>\n",
       "            <td>51a04a8a6bdcb23deccc82b0b80742cf</td>\n",
       "            <td>12914</td>\n",
       "            <td>braganca paulista</td>\n",
       "            <td>SP</td>\n",
       "        </tr>\n",
       "    </tbody>\n",
       "</table>"
      ],
      "text/plain": [
       "+----------------------------------+------------------------+-------------------+--------------+\n",
       "|            seller_id             | seller_zip_code_prefix |    seller_city    | seller_state |\n",
       "+----------------------------------+------------------------+-------------------+--------------+\n",
       "| 3442f8959a84dea7ee197c632cb2df15 |         13023          |      campinas     |      SP      |\n",
       "| d1b65fc7debc3361ea86b5f14c68d2e2 |         13844          |     mogi guacu    |      SP      |\n",
       "| ce3ad9de960102d0677a81f5d0bb7b2d |         20031          |   rio de janeiro  |      RJ      |\n",
       "| c0f3eea2e14555b6faeea3dd58c1b1c3 |          4195          |     sao paulo     |      SP      |\n",
       "| 51a04a8a6bdcb23deccc82b0b80742cf |         12914          | braganca paulista |      SP      |\n",
       "+----------------------------------+------------------------+-------------------+--------------+"
      ]
     },
     "execution_count": 10,
     "metadata": {},
     "output_type": "execute_result"
    }
   ],
   "source": [
    "%%sql\n",
    "SELECT *\n",
    "FROM sellers\n",
    "LIMIT 5\n"
   ]
  },
  {
   "cell_type": "code",
   "execution_count": 11,
   "metadata": {},
   "outputs": [
    {
     "data": {
      "text/html": [
       "<span style=\"None\">Running query in &#x27;sqlite:///olist.sqlite&#x27;</span>"
      ],
      "text/plain": [
       "Running query in 'sqlite:///olist.sqlite'"
      ]
     },
     "metadata": {},
     "output_type": "display_data"
    },
    {
     "data": {
      "text/html": [
       "<table>\n",
       "    <thead>\n",
       "        <tr>\n",
       "            <th>customer_id</th>\n",
       "            <th>customer_unique_id</th>\n",
       "            <th>customer_zip_code_prefix</th>\n",
       "            <th>customer_city</th>\n",
       "            <th>customer_state</th>\n",
       "        </tr>\n",
       "    </thead>\n",
       "    <tbody>\n",
       "        <tr>\n",
       "            <td>06b8999e2fba1a1fbc88172c00ba8bc7</td>\n",
       "            <td>861eff4711a542e4b93843c6dd7febb0</td>\n",
       "            <td>14409</td>\n",
       "            <td>franca</td>\n",
       "            <td>SP</td>\n",
       "        </tr>\n",
       "        <tr>\n",
       "            <td>18955e83d337fd6b2def6b18a428ac77</td>\n",
       "            <td>290c77bc529b7ac935b93aa66c333dc3</td>\n",
       "            <td>9790</td>\n",
       "            <td>sao bernardo do campo</td>\n",
       "            <td>SP</td>\n",
       "        </tr>\n",
       "        <tr>\n",
       "            <td>4e7b3e00288586ebd08712fdd0374a03</td>\n",
       "            <td>060e732b5b29e8181a18229c7b0b2b5e</td>\n",
       "            <td>1151</td>\n",
       "            <td>sao paulo</td>\n",
       "            <td>SP</td>\n",
       "        </tr>\n",
       "        <tr>\n",
       "            <td>b2b6027bc5c5109e529d4dc6358b12c3</td>\n",
       "            <td>259dac757896d24d7702b9acbbff3f3c</td>\n",
       "            <td>8775</td>\n",
       "            <td>mogi das cruzes</td>\n",
       "            <td>SP</td>\n",
       "        </tr>\n",
       "        <tr>\n",
       "            <td>4f2d8ab171c80ec8364f7c12e35b23ad</td>\n",
       "            <td>345ecd01c38d18a9036ed96c73b8d066</td>\n",
       "            <td>13056</td>\n",
       "            <td>campinas</td>\n",
       "            <td>SP</td>\n",
       "        </tr>\n",
       "    </tbody>\n",
       "</table>"
      ],
      "text/plain": [
       "+----------------------------------+----------------------------------+--------------------------+-----------------------+----------------+\n",
       "|           customer_id            |        customer_unique_id        | customer_zip_code_prefix |     customer_city     | customer_state |\n",
       "+----------------------------------+----------------------------------+--------------------------+-----------------------+----------------+\n",
       "| 06b8999e2fba1a1fbc88172c00ba8bc7 | 861eff4711a542e4b93843c6dd7febb0 |          14409           |         franca        |       SP       |\n",
       "| 18955e83d337fd6b2def6b18a428ac77 | 290c77bc529b7ac935b93aa66c333dc3 |           9790           | sao bernardo do campo |       SP       |\n",
       "| 4e7b3e00288586ebd08712fdd0374a03 | 060e732b5b29e8181a18229c7b0b2b5e |           1151           |       sao paulo       |       SP       |\n",
       "| b2b6027bc5c5109e529d4dc6358b12c3 | 259dac757896d24d7702b9acbbff3f3c |           8775           |    mogi das cruzes    |       SP       |\n",
       "| 4f2d8ab171c80ec8364f7c12e35b23ad | 345ecd01c38d18a9036ed96c73b8d066 |          13056           |        campinas       |       SP       |\n",
       "+----------------------------------+----------------------------------+--------------------------+-----------------------+----------------+"
      ]
     },
     "execution_count": 11,
     "metadata": {},
     "output_type": "execute_result"
    }
   ],
   "source": [
    "%%sql\n",
    "SELECT *\n",
    "FROM customers\n",
    "LIMIT 5"
   ]
  },
  {
   "cell_type": "code",
   "execution_count": 12,
   "metadata": {},
   "outputs": [
    {
     "data": {
      "text/html": [
       "<span style=\"None\">Running query in &#x27;sqlite:///olist.sqlite&#x27;</span>"
      ],
      "text/plain": [
       "Running query in 'sqlite:///olist.sqlite'"
      ]
     },
     "metadata": {},
     "output_type": "display_data"
    },
    {
     "data": {
      "text/html": [
       "<table>\n",
       "    <thead>\n",
       "        <tr>\n",
       "            <th>geolocation_zip_code_prefix</th>\n",
       "            <th>geolocation_lat</th>\n",
       "            <th>geolocation_lng</th>\n",
       "            <th>geolocation_city</th>\n",
       "            <th>geolocation_state</th>\n",
       "        </tr>\n",
       "    </thead>\n",
       "    <tbody>\n",
       "        <tr>\n",
       "            <td>1037</td>\n",
       "            <td>-23.54562128115268</td>\n",
       "            <td>-46.63929204800168</td>\n",
       "            <td>sao paulo</td>\n",
       "            <td>SP</td>\n",
       "        </tr>\n",
       "        <tr>\n",
       "            <td>1046</td>\n",
       "            <td>-23.54608112703553</td>\n",
       "            <td>-46.64482029837157</td>\n",
       "            <td>sao paulo</td>\n",
       "            <td>SP</td>\n",
       "        </tr>\n",
       "        <tr>\n",
       "            <td>1046</td>\n",
       "            <td>-23.54612896641469</td>\n",
       "            <td>-46.64295148361138</td>\n",
       "            <td>sao paulo</td>\n",
       "            <td>SP</td>\n",
       "        </tr>\n",
       "        <tr>\n",
       "            <td>1041</td>\n",
       "            <td>-23.5443921648681</td>\n",
       "            <td>-46.63949930627844</td>\n",
       "            <td>sao paulo</td>\n",
       "            <td>SP</td>\n",
       "        </tr>\n",
       "        <tr>\n",
       "            <td>1035</td>\n",
       "            <td>-23.541577961711493</td>\n",
       "            <td>-46.64160722329613</td>\n",
       "            <td>sao paulo</td>\n",
       "            <td>SP</td>\n",
       "        </tr>\n",
       "    </tbody>\n",
       "</table>"
      ],
      "text/plain": [
       "+-----------------------------+---------------------+--------------------+------------------+-------------------+\n",
       "| geolocation_zip_code_prefix |   geolocation_lat   |  geolocation_lng   | geolocation_city | geolocation_state |\n",
       "+-----------------------------+---------------------+--------------------+------------------+-------------------+\n",
       "|             1037            |  -23.54562128115268 | -46.63929204800168 |    sao paulo     |         SP        |\n",
       "|             1046            |  -23.54608112703553 | -46.64482029837157 |    sao paulo     |         SP        |\n",
       "|             1046            |  -23.54612896641469 | -46.64295148361138 |    sao paulo     |         SP        |\n",
       "|             1041            |  -23.5443921648681  | -46.63949930627844 |    sao paulo     |         SP        |\n",
       "|             1035            | -23.541577961711493 | -46.64160722329613 |    sao paulo     |         SP        |\n",
       "+-----------------------------+---------------------+--------------------+------------------+-------------------+"
      ]
     },
     "execution_count": 12,
     "metadata": {},
     "output_type": "execute_result"
    }
   ],
   "source": [
    "%%sql\n",
    "SELECT *\n",
    "FROM geolocation\n",
    "LIMIT 5"
   ]
  },
  {
   "cell_type": "code",
   "execution_count": 13,
   "metadata": {},
   "outputs": [
    {
     "data": {
      "text/html": [
       "<span style=\"None\">Running query in &#x27;sqlite:///olist.sqlite&#x27;</span>"
      ],
      "text/plain": [
       "Running query in 'sqlite:///olist.sqlite'"
      ]
     },
     "metadata": {},
     "output_type": "display_data"
    },
    {
     "data": {
      "text/html": [
       "<table>\n",
       "    <thead>\n",
       "        <tr>\n",
       "            <th>order_id</th>\n",
       "            <th>order_item_id</th>\n",
       "            <th>product_id</th>\n",
       "            <th>seller_id</th>\n",
       "            <th>shipping_limit_date</th>\n",
       "            <th>price</th>\n",
       "            <th>freight_value</th>\n",
       "        </tr>\n",
       "    </thead>\n",
       "    <tbody>\n",
       "        <tr>\n",
       "            <td>00010242fe8c5a6d1ba2dd792cb16214</td>\n",
       "            <td>1</td>\n",
       "            <td>4244733e06e7ecb4970a6e2683c13e61</td>\n",
       "            <td>48436dade18ac8b2bce089ec2a041202</td>\n",
       "            <td>2017-09-19 09:45:35</td>\n",
       "            <td>58.9</td>\n",
       "            <td>13.29</td>\n",
       "        </tr>\n",
       "        <tr>\n",
       "            <td>00018f77f2f0320c557190d7a144bdd3</td>\n",
       "            <td>1</td>\n",
       "            <td>e5f2d52b802189ee658865ca93d83a8f</td>\n",
       "            <td>dd7ddc04e1b6c2c614352b383efe2d36</td>\n",
       "            <td>2017-05-03 11:05:13</td>\n",
       "            <td>239.9</td>\n",
       "            <td>19.93</td>\n",
       "        </tr>\n",
       "        <tr>\n",
       "            <td>000229ec398224ef6ca0657da4fc703e</td>\n",
       "            <td>1</td>\n",
       "            <td>c777355d18b72b67abbeef9df44fd0fd</td>\n",
       "            <td>5b51032eddd242adc84c38acab88f23d</td>\n",
       "            <td>2018-01-18 14:48:30</td>\n",
       "            <td>199.0</td>\n",
       "            <td>17.87</td>\n",
       "        </tr>\n",
       "        <tr>\n",
       "            <td>00024acbcdf0a6daa1e931b038114c75</td>\n",
       "            <td>1</td>\n",
       "            <td>7634da152a4610f1595efa32f14722fc</td>\n",
       "            <td>9d7a1d34a5052409006425275ba1c2b4</td>\n",
       "            <td>2018-08-15 10:10:18</td>\n",
       "            <td>12.99</td>\n",
       "            <td>12.79</td>\n",
       "        </tr>\n",
       "        <tr>\n",
       "            <td>00042b26cf59d7ce69dfabb4e55b4fd9</td>\n",
       "            <td>1</td>\n",
       "            <td>ac6c3623068f30de03045865e4e10089</td>\n",
       "            <td>df560393f3a51e74553ab94004ba5c87</td>\n",
       "            <td>2017-02-13 13:57:51</td>\n",
       "            <td>199.9</td>\n",
       "            <td>18.14</td>\n",
       "        </tr>\n",
       "    </tbody>\n",
       "</table>"
      ],
      "text/plain": [
       "+----------------------------------+---------------+----------------------------------+----------------------------------+---------------------+-------+---------------+\n",
       "|             order_id             | order_item_id |            product_id            |            seller_id             | shipping_limit_date | price | freight_value |\n",
       "+----------------------------------+---------------+----------------------------------+----------------------------------+---------------------+-------+---------------+\n",
       "| 00010242fe8c5a6d1ba2dd792cb16214 |       1       | 4244733e06e7ecb4970a6e2683c13e61 | 48436dade18ac8b2bce089ec2a041202 | 2017-09-19 09:45:35 |  58.9 |     13.29     |\n",
       "| 00018f77f2f0320c557190d7a144bdd3 |       1       | e5f2d52b802189ee658865ca93d83a8f | dd7ddc04e1b6c2c614352b383efe2d36 | 2017-05-03 11:05:13 | 239.9 |     19.93     |\n",
       "| 000229ec398224ef6ca0657da4fc703e |       1       | c777355d18b72b67abbeef9df44fd0fd | 5b51032eddd242adc84c38acab88f23d | 2018-01-18 14:48:30 | 199.0 |     17.87     |\n",
       "| 00024acbcdf0a6daa1e931b038114c75 |       1       | 7634da152a4610f1595efa32f14722fc | 9d7a1d34a5052409006425275ba1c2b4 | 2018-08-15 10:10:18 | 12.99 |     12.79     |\n",
       "| 00042b26cf59d7ce69dfabb4e55b4fd9 |       1       | ac6c3623068f30de03045865e4e10089 | df560393f3a51e74553ab94004ba5c87 | 2017-02-13 13:57:51 | 199.9 |     18.14     |\n",
       "+----------------------------------+---------------+----------------------------------+----------------------------------+---------------------+-------+---------------+"
      ]
     },
     "execution_count": 13,
     "metadata": {},
     "output_type": "execute_result"
    }
   ],
   "source": [
    "%%sql\n",
    "SELECT *\n",
    "FROM order_items\n",
    "LIMIT 5"
   ]
  },
  {
   "cell_type": "code",
   "execution_count": 14,
   "metadata": {},
   "outputs": [
    {
     "data": {
      "text/html": [
       "<span style=\"None\">Running query in &#x27;sqlite:///olist.sqlite&#x27;</span>"
      ],
      "text/plain": [
       "Running query in 'sqlite:///olist.sqlite'"
      ]
     },
     "metadata": {},
     "output_type": "display_data"
    },
    {
     "data": {
      "text/html": [
       "<table>\n",
       "    <thead>\n",
       "        <tr>\n",
       "            <th>order_id</th>\n",
       "            <th>payment_sequential</th>\n",
       "            <th>payment_type</th>\n",
       "            <th>payment_installments</th>\n",
       "            <th>payment_value</th>\n",
       "        </tr>\n",
       "    </thead>\n",
       "    <tbody>\n",
       "        <tr>\n",
       "            <td>b81ef226f3fe1789b1e8b2acac839d17</td>\n",
       "            <td>1</td>\n",
       "            <td>credit_card</td>\n",
       "            <td>8</td>\n",
       "            <td>99.33</td>\n",
       "        </tr>\n",
       "        <tr>\n",
       "            <td>a9810da82917af2d9aefd1278f1dcfa0</td>\n",
       "            <td>1</td>\n",
       "            <td>credit_card</td>\n",
       "            <td>1</td>\n",
       "            <td>24.39</td>\n",
       "        </tr>\n",
       "        <tr>\n",
       "            <td>25e8ea4e93396b6fa0d3dd708e76c1bd</td>\n",
       "            <td>1</td>\n",
       "            <td>credit_card</td>\n",
       "            <td>1</td>\n",
       "            <td>65.71</td>\n",
       "        </tr>\n",
       "        <tr>\n",
       "            <td>ba78997921bbcdc1373bb41e913ab953</td>\n",
       "            <td>1</td>\n",
       "            <td>credit_card</td>\n",
       "            <td>8</td>\n",
       "            <td>107.78</td>\n",
       "        </tr>\n",
       "        <tr>\n",
       "            <td>42fdf880ba16b47b59251dd489d4441a</td>\n",
       "            <td>1</td>\n",
       "            <td>credit_card</td>\n",
       "            <td>2</td>\n",
       "            <td>128.45</td>\n",
       "        </tr>\n",
       "    </tbody>\n",
       "</table>"
      ],
      "text/plain": [
       "+----------------------------------+--------------------+--------------+----------------------+---------------+\n",
       "|             order_id             | payment_sequential | payment_type | payment_installments | payment_value |\n",
       "+----------------------------------+--------------------+--------------+----------------------+---------------+\n",
       "| b81ef226f3fe1789b1e8b2acac839d17 |         1          | credit_card  |          8           |     99.33     |\n",
       "| a9810da82917af2d9aefd1278f1dcfa0 |         1          | credit_card  |          1           |     24.39     |\n",
       "| 25e8ea4e93396b6fa0d3dd708e76c1bd |         1          | credit_card  |          1           |     65.71     |\n",
       "| ba78997921bbcdc1373bb41e913ab953 |         1          | credit_card  |          8           |     107.78    |\n",
       "| 42fdf880ba16b47b59251dd489d4441a |         1          | credit_card  |          2           |     128.45    |\n",
       "+----------------------------------+--------------------+--------------+----------------------+---------------+"
      ]
     },
     "execution_count": 14,
     "metadata": {},
     "output_type": "execute_result"
    }
   ],
   "source": [
    "%%sql\n",
    "SELECT *\n",
    "FROM order_payments\n",
    "LIMIT 5"
   ]
  },
  {
   "cell_type": "code",
   "execution_count": 15,
   "metadata": {},
   "outputs": [
    {
     "data": {
      "text/html": [
       "<span style=\"None\">Running query in &#x27;sqlite:///olist.sqlite&#x27;</span>"
      ],
      "text/plain": [
       "Running query in 'sqlite:///olist.sqlite'"
      ]
     },
     "metadata": {},
     "output_type": "display_data"
    },
    {
     "data": {
      "text/html": [
       "<table>\n",
       "    <thead>\n",
       "        <tr>\n",
       "            <th>review_id</th>\n",
       "            <th>order_id</th>\n",
       "            <th>review_score</th>\n",
       "            <th>review_comment_title</th>\n",
       "            <th>review_comment_message</th>\n",
       "            <th>review_creation_date</th>\n",
       "            <th>review_answer_timestamp</th>\n",
       "        </tr>\n",
       "    </thead>\n",
       "    <tbody>\n",
       "        <tr>\n",
       "            <td>7bc2406110b926393aa56f80a40eba40</td>\n",
       "            <td>73fc7af87114b39712e6da79b0a377eb</td>\n",
       "            <td>4</td>\n",
       "            <td>None</td>\n",
       "            <td>None</td>\n",
       "            <td>2018-01-18 00:00:00</td>\n",
       "            <td>2018-01-18 21:46:59</td>\n",
       "        </tr>\n",
       "        <tr>\n",
       "            <td>80e641a11e56f04c1ad469d5645fdfde</td>\n",
       "            <td>a548910a1c6147796b98fdf73dbeba33</td>\n",
       "            <td>5</td>\n",
       "            <td>None</td>\n",
       "            <td>None</td>\n",
       "            <td>2018-03-10 00:00:00</td>\n",
       "            <td>2018-03-11 03:05:13</td>\n",
       "        </tr>\n",
       "        <tr>\n",
       "            <td>228ce5500dc1d8e020d8d1322874b6f0</td>\n",
       "            <td>f9e4b658b201a9f2ecdecbb34bed034b</td>\n",
       "            <td>5</td>\n",
       "            <td>None</td>\n",
       "            <td>None</td>\n",
       "            <td>2018-02-17 00:00:00</td>\n",
       "            <td>2018-02-18 14:36:24</td>\n",
       "        </tr>\n",
       "        <tr>\n",
       "            <td>e64fb393e7b32834bb789ff8bb30750e</td>\n",
       "            <td>658677c97b385a9be170737859d3511b</td>\n",
       "            <td>5</td>\n",
       "            <td>None</td>\n",
       "            <td>Recebi bem antes do prazo estipulado.</td>\n",
       "            <td>2017-04-21 00:00:00</td>\n",
       "            <td>2017-04-21 22:02:06</td>\n",
       "        </tr>\n",
       "        <tr>\n",
       "            <td>f7c4243c7fe1938f181bec41a392bdeb</td>\n",
       "            <td>8e6bfb81e283fa7e4f11123a3fb894f1</td>\n",
       "            <td>5</td>\n",
       "            <td>None</td>\n",
       "            <td>Parabéns lojas lannister adorei comprar pela Internet seguro e prático Parabéns a todos feliz Páscoa</td>\n",
       "            <td>2018-03-01 00:00:00</td>\n",
       "            <td>2018-03-02 10:26:53</td>\n",
       "        </tr>\n",
       "    </tbody>\n",
       "</table>"
      ],
      "text/plain": [
       "+----------------------------------+----------------------------------+--------------+----------------------+------------------------------------------------------------------------------------------------------+----------------------+-------------------------+\n",
       "|            review_id             |             order_id             | review_score | review_comment_title |                                        review_comment_message                                        | review_creation_date | review_answer_timestamp |\n",
       "+----------------------------------+----------------------------------+--------------+----------------------+------------------------------------------------------------------------------------------------------+----------------------+-------------------------+\n",
       "| 7bc2406110b926393aa56f80a40eba40 | 73fc7af87114b39712e6da79b0a377eb |      4       |         None         |                                                 None                                                 | 2018-01-18 00:00:00  |   2018-01-18 21:46:59   |\n",
       "| 80e641a11e56f04c1ad469d5645fdfde | a548910a1c6147796b98fdf73dbeba33 |      5       |         None         |                                                 None                                                 | 2018-03-10 00:00:00  |   2018-03-11 03:05:13   |\n",
       "| 228ce5500dc1d8e020d8d1322874b6f0 | f9e4b658b201a9f2ecdecbb34bed034b |      5       |         None         |                                                 None                                                 | 2018-02-17 00:00:00  |   2018-02-18 14:36:24   |\n",
       "| e64fb393e7b32834bb789ff8bb30750e | 658677c97b385a9be170737859d3511b |      5       |         None         |                                Recebi bem antes do prazo estipulado.                                 | 2017-04-21 00:00:00  |   2017-04-21 22:02:06   |\n",
       "| f7c4243c7fe1938f181bec41a392bdeb | 8e6bfb81e283fa7e4f11123a3fb894f1 |      5       |         None         | Parabéns lojas lannister adorei comprar pela Internet seguro e prático Parabéns a todos feliz Páscoa | 2018-03-01 00:00:00  |   2018-03-02 10:26:53   |\n",
       "+----------------------------------+----------------------------------+--------------+----------------------+------------------------------------------------------------------------------------------------------+----------------------+-------------------------+"
      ]
     },
     "execution_count": 15,
     "metadata": {},
     "output_type": "execute_result"
    }
   ],
   "source": [
    "%%sql\n",
    "SELECT *\n",
    "FROM order_reviews\n",
    "LIMIT 5"
   ]
  },
  {
   "cell_type": "code",
   "execution_count": 16,
   "metadata": {},
   "outputs": [
    {
     "data": {
      "text/html": [
       "<span style=\"None\">Running query in &#x27;sqlite:///olist.sqlite&#x27;</span>"
      ],
      "text/plain": [
       "Running query in 'sqlite:///olist.sqlite'"
      ]
     },
     "metadata": {},
     "output_type": "display_data"
    },
    {
     "data": {
      "text/html": [
       "<table>\n",
       "    <thead>\n",
       "        <tr>\n",
       "            <th>order_id</th>\n",
       "            <th>customer_id</th>\n",
       "            <th>order_status</th>\n",
       "            <th>order_purchase_timestamp</th>\n",
       "            <th>order_approved_at</th>\n",
       "            <th>order_delivered_carrier_date</th>\n",
       "            <th>order_delivered_customer_date</th>\n",
       "            <th>order_estimated_delivery_date</th>\n",
       "        </tr>\n",
       "    </thead>\n",
       "    <tbody>\n",
       "        <tr>\n",
       "            <td>e481f51cbdc54678b7cc49136f2d6af7</td>\n",
       "            <td>9ef432eb6251297304e76186b10a928d</td>\n",
       "            <td>delivered</td>\n",
       "            <td>2017-10-02 10:56:33</td>\n",
       "            <td>2017-10-02 11:07:15</td>\n",
       "            <td>2017-10-04 19:55:00</td>\n",
       "            <td>2017-10-10 21:25:13</td>\n",
       "            <td>2017-10-18 00:00:00</td>\n",
       "        </tr>\n",
       "        <tr>\n",
       "            <td>53cdb2fc8bc7dce0b6741e2150273451</td>\n",
       "            <td>b0830fb4747a6c6d20dea0b8c802d7ef</td>\n",
       "            <td>delivered</td>\n",
       "            <td>2018-07-24 20:41:37</td>\n",
       "            <td>2018-07-26 03:24:27</td>\n",
       "            <td>2018-07-26 14:31:00</td>\n",
       "            <td>2018-08-07 15:27:45</td>\n",
       "            <td>2018-08-13 00:00:00</td>\n",
       "        </tr>\n",
       "        <tr>\n",
       "            <td>47770eb9100c2d0c44946d9cf07ec65d</td>\n",
       "            <td>41ce2a54c0b03bf3443c3d931a367089</td>\n",
       "            <td>delivered</td>\n",
       "            <td>2018-08-08 08:38:49</td>\n",
       "            <td>2018-08-08 08:55:23</td>\n",
       "            <td>2018-08-08 13:50:00</td>\n",
       "            <td>2018-08-17 18:06:29</td>\n",
       "            <td>2018-09-04 00:00:00</td>\n",
       "        </tr>\n",
       "        <tr>\n",
       "            <td>949d5b44dbf5de918fe9c16f97b45f8a</td>\n",
       "            <td>f88197465ea7920adcdbec7375364d82</td>\n",
       "            <td>delivered</td>\n",
       "            <td>2017-11-18 19:28:06</td>\n",
       "            <td>2017-11-18 19:45:59</td>\n",
       "            <td>2017-11-22 13:39:59</td>\n",
       "            <td>2017-12-02 00:28:42</td>\n",
       "            <td>2017-12-15 00:00:00</td>\n",
       "        </tr>\n",
       "        <tr>\n",
       "            <td>ad21c59c0840e6cb83a9ceb5573f8159</td>\n",
       "            <td>8ab97904e6daea8866dbdbc4fb7aad2c</td>\n",
       "            <td>delivered</td>\n",
       "            <td>2018-02-13 21:18:39</td>\n",
       "            <td>2018-02-13 22:20:29</td>\n",
       "            <td>2018-02-14 19:46:34</td>\n",
       "            <td>2018-02-16 18:17:02</td>\n",
       "            <td>2018-02-26 00:00:00</td>\n",
       "        </tr>\n",
       "    </tbody>\n",
       "</table>"
      ],
      "text/plain": [
       "+----------------------------------+----------------------------------+--------------+--------------------------+---------------------+------------------------------+-------------------------------+-------------------------------+\n",
       "|             order_id             |           customer_id            | order_status | order_purchase_timestamp |  order_approved_at  | order_delivered_carrier_date | order_delivered_customer_date | order_estimated_delivery_date |\n",
       "+----------------------------------+----------------------------------+--------------+--------------------------+---------------------+------------------------------+-------------------------------+-------------------------------+\n",
       "| e481f51cbdc54678b7cc49136f2d6af7 | 9ef432eb6251297304e76186b10a928d |  delivered   |   2017-10-02 10:56:33    | 2017-10-02 11:07:15 |     2017-10-04 19:55:00      |      2017-10-10 21:25:13      |      2017-10-18 00:00:00      |\n",
       "| 53cdb2fc8bc7dce0b6741e2150273451 | b0830fb4747a6c6d20dea0b8c802d7ef |  delivered   |   2018-07-24 20:41:37    | 2018-07-26 03:24:27 |     2018-07-26 14:31:00      |      2018-08-07 15:27:45      |      2018-08-13 00:00:00      |\n",
       "| 47770eb9100c2d0c44946d9cf07ec65d | 41ce2a54c0b03bf3443c3d931a367089 |  delivered   |   2018-08-08 08:38:49    | 2018-08-08 08:55:23 |     2018-08-08 13:50:00      |      2018-08-17 18:06:29      |      2018-09-04 00:00:00      |\n",
       "| 949d5b44dbf5de918fe9c16f97b45f8a | f88197465ea7920adcdbec7375364d82 |  delivered   |   2017-11-18 19:28:06    | 2017-11-18 19:45:59 |     2017-11-22 13:39:59      |      2017-12-02 00:28:42      |      2017-12-15 00:00:00      |\n",
       "| ad21c59c0840e6cb83a9ceb5573f8159 | 8ab97904e6daea8866dbdbc4fb7aad2c |  delivered   |   2018-02-13 21:18:39    | 2018-02-13 22:20:29 |     2018-02-14 19:46:34      |      2018-02-16 18:17:02      |      2018-02-26 00:00:00      |\n",
       "+----------------------------------+----------------------------------+--------------+--------------------------+---------------------+------------------------------+-------------------------------+-------------------------------+"
      ]
     },
     "execution_count": 16,
     "metadata": {},
     "output_type": "execute_result"
    }
   ],
   "source": [
    "%%sql\n",
    "SELECT *\n",
    "FROM orders\n",
    "LIMIT 5"
   ]
  },
  {
   "cell_type": "code",
   "execution_count": 17,
   "metadata": {},
   "outputs": [
    {
     "data": {
      "text/html": [
       "<span style=\"None\">Running query in &#x27;sqlite:///olist.sqlite&#x27;</span>"
      ],
      "text/plain": [
       "Running query in 'sqlite:///olist.sqlite'"
      ]
     },
     "metadata": {},
     "output_type": "display_data"
    },
    {
     "data": {
      "text/html": [
       "<table>\n",
       "    <thead>\n",
       "        <tr>\n",
       "            <th>product_id</th>\n",
       "            <th>product_category_name</th>\n",
       "            <th>product_name_lenght</th>\n",
       "            <th>product_description_lenght</th>\n",
       "            <th>product_photos_qty</th>\n",
       "            <th>product_weight_g</th>\n",
       "            <th>product_length_cm</th>\n",
       "            <th>product_height_cm</th>\n",
       "            <th>product_width_cm</th>\n",
       "        </tr>\n",
       "    </thead>\n",
       "    <tbody>\n",
       "        <tr>\n",
       "            <td>1e9e8ef04dbcff4541ed26657ea517e5</td>\n",
       "            <td>perfumaria</td>\n",
       "            <td>40.0</td>\n",
       "            <td>287.0</td>\n",
       "            <td>1.0</td>\n",
       "            <td>225.0</td>\n",
       "            <td>16.0</td>\n",
       "            <td>10.0</td>\n",
       "            <td>14.0</td>\n",
       "        </tr>\n",
       "        <tr>\n",
       "            <td>3aa071139cb16b67ca9e5dea641aaa2f</td>\n",
       "            <td>artes</td>\n",
       "            <td>44.0</td>\n",
       "            <td>276.0</td>\n",
       "            <td>1.0</td>\n",
       "            <td>1000.0</td>\n",
       "            <td>30.0</td>\n",
       "            <td>18.0</td>\n",
       "            <td>20.0</td>\n",
       "        </tr>\n",
       "        <tr>\n",
       "            <td>96bd76ec8810374ed1b65e291975717f</td>\n",
       "            <td>esporte_lazer</td>\n",
       "            <td>46.0</td>\n",
       "            <td>250.0</td>\n",
       "            <td>1.0</td>\n",
       "            <td>154.0</td>\n",
       "            <td>18.0</td>\n",
       "            <td>9.0</td>\n",
       "            <td>15.0</td>\n",
       "        </tr>\n",
       "        <tr>\n",
       "            <td>cef67bcfe19066a932b7673e239eb23d</td>\n",
       "            <td>bebes</td>\n",
       "            <td>27.0</td>\n",
       "            <td>261.0</td>\n",
       "            <td>1.0</td>\n",
       "            <td>371.0</td>\n",
       "            <td>26.0</td>\n",
       "            <td>4.0</td>\n",
       "            <td>26.0</td>\n",
       "        </tr>\n",
       "        <tr>\n",
       "            <td>9dc1a7de274444849c219cff195d0b71</td>\n",
       "            <td>utilidades_domesticas</td>\n",
       "            <td>37.0</td>\n",
       "            <td>402.0</td>\n",
       "            <td>4.0</td>\n",
       "            <td>625.0</td>\n",
       "            <td>20.0</td>\n",
       "            <td>17.0</td>\n",
       "            <td>13.0</td>\n",
       "        </tr>\n",
       "    </tbody>\n",
       "</table>"
      ],
      "text/plain": [
       "+----------------------------------+-----------------------+---------------------+----------------------------+--------------------+------------------+-------------------+-------------------+------------------+\n",
       "|            product_id            | product_category_name | product_name_lenght | product_description_lenght | product_photos_qty | product_weight_g | product_length_cm | product_height_cm | product_width_cm |\n",
       "+----------------------------------+-----------------------+---------------------+----------------------------+--------------------+------------------+-------------------+-------------------+------------------+\n",
       "| 1e9e8ef04dbcff4541ed26657ea517e5 |       perfumaria      |         40.0        |           287.0            |        1.0         |      225.0       |        16.0       |        10.0       |       14.0       |\n",
       "| 3aa071139cb16b67ca9e5dea641aaa2f |         artes         |         44.0        |           276.0            |        1.0         |      1000.0      |        30.0       |        18.0       |       20.0       |\n",
       "| 96bd76ec8810374ed1b65e291975717f |     esporte_lazer     |         46.0        |           250.0            |        1.0         |      154.0       |        18.0       |        9.0        |       15.0       |\n",
       "| cef67bcfe19066a932b7673e239eb23d |         bebes         |         27.0        |           261.0            |        1.0         |      371.0       |        26.0       |        4.0        |       26.0       |\n",
       "| 9dc1a7de274444849c219cff195d0b71 | utilidades_domesticas |         37.0        |           402.0            |        4.0         |      625.0       |        20.0       |        17.0       |       13.0       |\n",
       "+----------------------------------+-----------------------+---------------------+----------------------------+--------------------+------------------+-------------------+-------------------+------------------+"
      ]
     },
     "execution_count": 17,
     "metadata": {},
     "output_type": "execute_result"
    }
   ],
   "source": [
    "%%sql\n",
    "SELECT *\n",
    "FROM products\n",
    "LIMIT 5"
   ]
  },
  {
   "cell_type": "code",
   "execution_count": 18,
   "metadata": {},
   "outputs": [
    {
     "data": {
      "text/html": [
       "<span style=\"None\">Running query in &#x27;sqlite:///olist.sqlite&#x27;</span>"
      ],
      "text/plain": [
       "Running query in 'sqlite:///olist.sqlite'"
      ]
     },
     "metadata": {},
     "output_type": "display_data"
    },
    {
     "data": {
      "text/html": [
       "<table>\n",
       "    <thead>\n",
       "        <tr>\n",
       "            <th>mql_id</th>\n",
       "            <th>first_contact_date</th>\n",
       "            <th>landing_page_id</th>\n",
       "            <th>origin</th>\n",
       "        </tr>\n",
       "    </thead>\n",
       "    <tbody>\n",
       "        <tr>\n",
       "            <td>dac32acd4db4c29c230538b72f8dd87d</td>\n",
       "            <td>2018-02-01</td>\n",
       "            <td>88740e65d5d6b056e0cda098e1ea6313</td>\n",
       "            <td>social</td>\n",
       "        </tr>\n",
       "        <tr>\n",
       "            <td>8c18d1de7f67e60dbd64e3c07d7e9d5d</td>\n",
       "            <td>2017-10-20</td>\n",
       "            <td>007f9098284a86ee80ddeb25d53e0af8</td>\n",
       "            <td>paid_search</td>\n",
       "        </tr>\n",
       "        <tr>\n",
       "            <td>b4bc852d233dfefc5131f593b538befa</td>\n",
       "            <td>2018-03-22</td>\n",
       "            <td>a7982125ff7aa3b2054c6e44f9d28522</td>\n",
       "            <td>organic_search</td>\n",
       "        </tr>\n",
       "        <tr>\n",
       "            <td>6be030b81c75970747525b843c1ef4f8</td>\n",
       "            <td>2018-01-22</td>\n",
       "            <td>d45d558f0daeecf3cccdffe3c59684aa</td>\n",
       "            <td>email</td>\n",
       "        </tr>\n",
       "        <tr>\n",
       "            <td>5420aad7fec3549a85876ba1c529bd84</td>\n",
       "            <td>2018-02-21</td>\n",
       "            <td>b48ec5f3b04e9068441002a19df93c6c</td>\n",
       "            <td>organic_search</td>\n",
       "        </tr>\n",
       "    </tbody>\n",
       "</table>"
      ],
      "text/plain": [
       "+----------------------------------+--------------------+----------------------------------+----------------+\n",
       "|              mql_id              | first_contact_date |         landing_page_id          |     origin     |\n",
       "+----------------------------------+--------------------+----------------------------------+----------------+\n",
       "| dac32acd4db4c29c230538b72f8dd87d |     2018-02-01     | 88740e65d5d6b056e0cda098e1ea6313 |     social     |\n",
       "| 8c18d1de7f67e60dbd64e3c07d7e9d5d |     2017-10-20     | 007f9098284a86ee80ddeb25d53e0af8 |  paid_search   |\n",
       "| b4bc852d233dfefc5131f593b538befa |     2018-03-22     | a7982125ff7aa3b2054c6e44f9d28522 | organic_search |\n",
       "| 6be030b81c75970747525b843c1ef4f8 |     2018-01-22     | d45d558f0daeecf3cccdffe3c59684aa |     email      |\n",
       "| 5420aad7fec3549a85876ba1c529bd84 |     2018-02-21     | b48ec5f3b04e9068441002a19df93c6c | organic_search |\n",
       "+----------------------------------+--------------------+----------------------------------+----------------+"
      ]
     },
     "execution_count": 18,
     "metadata": {},
     "output_type": "execute_result"
    }
   ],
   "source": [
    "%%sql\n",
    "SELECT *\n",
    "FROM leads_qualified\n",
    "LIMIT 5"
   ]
  },
  {
   "cell_type": "code",
   "execution_count": 19,
   "metadata": {},
   "outputs": [
    {
     "data": {
      "text/html": [
       "<span style=\"None\">Running query in &#x27;sqlite:///olist.sqlite&#x27;</span>"
      ],
      "text/plain": [
       "Running query in 'sqlite:///olist.sqlite'"
      ]
     },
     "metadata": {},
     "output_type": "display_data"
    },
    {
     "data": {
      "text/html": [
       "<table>\n",
       "    <thead>\n",
       "        <tr>\n",
       "            <th>count(*)</th>\n",
       "        </tr>\n",
       "    </thead>\n",
       "    <tbody>\n",
       "        <tr>\n",
       "            <td>3095</td>\n",
       "        </tr>\n",
       "    </tbody>\n",
       "</table>"
      ],
      "text/plain": [
       "+----------+\n",
       "| count(*) |\n",
       "+----------+\n",
       "|   3095   |\n",
       "+----------+"
      ]
     },
     "execution_count": 19,
     "metadata": {},
     "output_type": "execute_result"
    }
   ],
   "source": [
    "%%sql\n",
    "SELECT count(*)\n",
    "FROM sellers"
   ]
  },
  {
   "cell_type": "code",
   "execution_count": 20,
   "metadata": {},
   "outputs": [
    {
     "data": {
      "text/html": [
       "<span style=\"None\">Running query in &#x27;sqlite:///olist.sqlite&#x27;</span>"
      ],
      "text/plain": [
       "Running query in 'sqlite:///olist.sqlite'"
      ]
     },
     "metadata": {},
     "output_type": "display_data"
    },
    {
     "data": {
      "text/html": [
       "<table>\n",
       "    <thead>\n",
       "        <tr>\n",
       "            <th>seller_city</th>\n",
       "        </tr>\n",
       "    </thead>\n",
       "    <tbody>\n",
       "        <tr>\n",
       "            <td>campinas</td>\n",
       "        </tr>\n",
       "        <tr>\n",
       "            <td>mogi guacu</td>\n",
       "        </tr>\n",
       "        <tr>\n",
       "            <td>rio de janeiro</td>\n",
       "        </tr>\n",
       "        <tr>\n",
       "            <td>sao paulo</td>\n",
       "        </tr>\n",
       "        <tr>\n",
       "            <td>braganca paulista</td>\n",
       "        </tr>\n",
       "        <tr>\n",
       "            <td>brejao</td>\n",
       "        </tr>\n",
       "        <tr>\n",
       "            <td>penapolis</td>\n",
       "        </tr>\n",
       "        <tr>\n",
       "            <td>curitiba</td>\n",
       "        </tr>\n",
       "        <tr>\n",
       "            <td>anapolis</td>\n",
       "        </tr>\n",
       "        <tr>\n",
       "            <td>itirapina</td>\n",
       "        </tr>\n",
       "    </tbody>\n",
       "</table>\n",
       "<span style=\"font-style:italic;text-align:center;\">Truncated to <a href=\"https://jupysql.ploomber.io/en/latest/api/configuration.html#displaylimit\">displaylimit</a> of 10.</span>"
      ],
      "text/plain": [
       "+-------------------+\n",
       "|    seller_city    |\n",
       "+-------------------+\n",
       "|      campinas     |\n",
       "|     mogi guacu    |\n",
       "|   rio de janeiro  |\n",
       "|     sao paulo     |\n",
       "| braganca paulista |\n",
       "|       brejao      |\n",
       "|     penapolis     |\n",
       "|      curitiba     |\n",
       "|      anapolis     |\n",
       "|     itirapina     |\n",
       "+-------------------+\n",
       "Truncated to displaylimit of 10."
      ]
     },
     "execution_count": 20,
     "metadata": {},
     "output_type": "execute_result"
    }
   ],
   "source": [
    "%%sql\n",
    "SELECT distinct(seller_city)\n",
    "FROM sellers"
   ]
  },
  {
   "cell_type": "code",
   "execution_count": 21,
   "metadata": {},
   "outputs": [
    {
     "data": {
      "text/html": [
       "<span style=\"None\">Running query in &#x27;sqlite:///olist.sqlite&#x27;</span>"
      ],
      "text/plain": [
       "Running query in 'sqlite:///olist.sqlite'"
      ]
     },
     "metadata": {},
     "output_type": "display_data"
    },
    {
     "data": {
      "text/html": [
       "<table>\n",
       "    <thead>\n",
       "        <tr>\n",
       "            <th>count(distinct(seller_id))</th>\n",
       "        </tr>\n",
       "    </thead>\n",
       "    <tbody>\n",
       "        <tr>\n",
       "            <td>3095</td>\n",
       "        </tr>\n",
       "    </tbody>\n",
       "</table>"
      ],
      "text/plain": [
       "+----------------------------+\n",
       "| count(distinct(seller_id)) |\n",
       "+----------------------------+\n",
       "|            3095            |\n",
       "+----------------------------+"
      ]
     },
     "execution_count": 21,
     "metadata": {},
     "output_type": "execute_result"
    }
   ],
   "source": [
    "%%sql\n",
    "SELECT count(distinct(seller_id))\n",
    "FROM sellers"
   ]
  },
  {
   "cell_type": "code",
   "execution_count": 22,
   "metadata": {},
   "outputs": [
    {
     "data": {
      "text/html": [
       "<span style=\"None\">Running query in &#x27;sqlite:///olist.sqlite&#x27;</span>"
      ],
      "text/plain": [
       "Running query in 'sqlite:///olist.sqlite'"
      ]
     },
     "metadata": {},
     "output_type": "display_data"
    },
    {
     "data": {
      "text/html": [
       "<table>\n",
       "    <thead>\n",
       "        <tr>\n",
       "            <th>seller_id</th>\n",
       "            <th>seller_zip_code_prefix</th>\n",
       "            <th>seller_city</th>\n",
       "            <th>seller_state</th>\n",
       "        </tr>\n",
       "    </thead>\n",
       "    <tbody>\n",
       "        <tr>\n",
       "            <td>c0f3eea2e14555b6faeea3dd58c1b1c3</td>\n",
       "            <td>4195</td>\n",
       "            <td>sao paulo</td>\n",
       "            <td>SP</td>\n",
       "        </tr>\n",
       "        <tr>\n",
       "            <td>768a86e36ad6aae3d03ee3c6433d61df</td>\n",
       "            <td>1529</td>\n",
       "            <td>sao paulo</td>\n",
       "            <td>SP</td>\n",
       "        </tr>\n",
       "        <tr>\n",
       "            <td>8bd0f31cf0a614c658f6763bd02dea69</td>\n",
       "            <td>1222</td>\n",
       "            <td>sao paulo</td>\n",
       "            <td>SP</td>\n",
       "        </tr>\n",
       "        <tr>\n",
       "            <td>05a48cc8859962767935ab9087417fbb</td>\n",
       "            <td>5372</td>\n",
       "            <td>sao paulo</td>\n",
       "            <td>SP</td>\n",
       "        </tr>\n",
       "        <tr>\n",
       "            <td>f9ec7093df3a7b346b7bcf7864069ca3</td>\n",
       "            <td>5138</td>\n",
       "            <td>sao paulo</td>\n",
       "            <td>SP</td>\n",
       "        </tr>\n",
       "    </tbody>\n",
       "</table>"
      ],
      "text/plain": [
       "+----------------------------------+------------------------+-------------+--------------+\n",
       "|            seller_id             | seller_zip_code_prefix | seller_city | seller_state |\n",
       "+----------------------------------+------------------------+-------------+--------------+\n",
       "| c0f3eea2e14555b6faeea3dd58c1b1c3 |          4195          |  sao paulo  |      SP      |\n",
       "| 768a86e36ad6aae3d03ee3c6433d61df |          1529          |  sao paulo  |      SP      |\n",
       "| 8bd0f31cf0a614c658f6763bd02dea69 |          1222          |  sao paulo  |      SP      |\n",
       "| 05a48cc8859962767935ab9087417fbb |          5372          |  sao paulo  |      SP      |\n",
       "| f9ec7093df3a7b346b7bcf7864069ca3 |          5138          |  sao paulo  |      SP      |\n",
       "+----------------------------------+------------------------+-------------+--------------+"
      ]
     },
     "execution_count": 22,
     "metadata": {},
     "output_type": "execute_result"
    }
   ],
   "source": [
    "%%sql\n",
    "SELECT *\n",
    "FROM sellers\n",
    "WHERE seller_city =  \"sao paulo\"\n",
    "LIMIT 5"
   ]
  },
  {
   "cell_type": "code",
   "execution_count": 23,
   "metadata": {},
   "outputs": [
    {
     "data": {
      "text/html": [
       "<span style=\"None\">Running query in &#x27;sqlite:///olist.sqlite&#x27;</span>"
      ],
      "text/plain": [
       "Running query in 'sqlite:///olist.sqlite'"
      ]
     },
     "metadata": {},
     "output_type": "display_data"
    },
    {
     "data": {
      "text/html": [
       "<table>\n",
       "    <thead>\n",
       "        <tr>\n",
       "            <th>count(*)</th>\n",
       "        </tr>\n",
       "    </thead>\n",
       "    <tbody>\n",
       "        <tr>\n",
       "            <td>694</td>\n",
       "        </tr>\n",
       "    </tbody>\n",
       "</table>"
      ],
      "text/plain": [
       "+----------+\n",
       "| count(*) |\n",
       "+----------+\n",
       "|   694    |\n",
       "+----------+"
      ]
     },
     "execution_count": 23,
     "metadata": {},
     "output_type": "execute_result"
    }
   ],
   "source": [
    "%%sql\n",
    "SELECT count(*)\n",
    "FROM sellers\n",
    "WHERE seller_city =  \"sao paulo\""
   ]
  },
  {
   "cell_type": "code",
   "execution_count": 24,
   "metadata": {},
   "outputs": [
    {
     "data": {
      "text/html": [
       "<span style=\"None\">Running query in &#x27;sqlite:///olist.sqlite&#x27;</span>"
      ],
      "text/plain": [
       "Running query in 'sqlite:///olist.sqlite'"
      ]
     },
     "metadata": {},
     "output_type": "display_data"
    },
    {
     "data": {
      "text/html": [
       "<table>\n",
       "    <thead>\n",
       "        <tr>\n",
       "            <th>count(*)</th>\n",
       "        </tr>\n",
       "    </thead>\n",
       "    <tbody>\n",
       "        <tr>\n",
       "            <td>99441</td>\n",
       "        </tr>\n",
       "    </tbody>\n",
       "</table>"
      ],
      "text/plain": [
       "+----------+\n",
       "| count(*) |\n",
       "+----------+\n",
       "|  99441   |\n",
       "+----------+"
      ]
     },
     "execution_count": 24,
     "metadata": {},
     "output_type": "execute_result"
    }
   ],
   "source": [
    "%%sql\n",
    "SELECT count(*)\n",
    "FROM customers\n"
   ]
  },
  {
   "cell_type": "code",
   "execution_count": 25,
   "metadata": {},
   "outputs": [
    {
     "data": {
      "text/html": [
       "<span style=\"None\">Running query in &#x27;sqlite:///olist.sqlite&#x27;</span>"
      ],
      "text/plain": [
       "Running query in 'sqlite:///olist.sqlite'"
      ]
     },
     "metadata": {},
     "output_type": "display_data"
    },
    {
     "data": {
      "text/html": [
       "<table>\n",
       "    <thead>\n",
       "        <tr>\n",
       "            <th>count(*)</th>\n",
       "        </tr>\n",
       "    </thead>\n",
       "    <tbody>\n",
       "        <tr>\n",
       "            <td>69012054</td>\n",
       "        </tr>\n",
       "    </tbody>\n",
       "</table>"
      ],
      "text/plain": [
       "+----------+\n",
       "| count(*) |\n",
       "+----------+\n",
       "| 69012054 |\n",
       "+----------+"
      ]
     },
     "execution_count": 25,
     "metadata": {},
     "output_type": "execute_result"
    }
   ],
   "source": [
    "%%sql\n",
    "SELECT count(*)\n",
    "FROM sellers AS s\n",
    "JOIN customers AS c\n",
    "WHERE seller_city =  \"sao paulo\"\n",
    "LIMIT 5"
   ]
  },
  {
   "cell_type": "code",
   "execution_count": 26,
   "metadata": {},
   "outputs": [
    {
     "data": {
      "text/html": [
       "<span style=\"None\">Running query in &#x27;sqlite:///olist.sqlite&#x27;</span>"
      ],
      "text/plain": [
       "Running query in 'sqlite:///olist.sqlite'"
      ]
     },
     "metadata": {},
     "output_type": "display_data"
    },
    {
     "data": {
      "text/html": [
       "<table>\n",
       "    <thead>\n",
       "        <tr>\n",
       "            <th>seller_id</th>\n",
       "            <th>customer_id</th>\n",
       "            <th>customer_unique_id</th>\n",
       "            <th>customer_zip_code_prefix</th>\n",
       "            <th>customer_city</th>\n",
       "            <th>customer_state</th>\n",
       "        </tr>\n",
       "    </thead>\n",
       "    <tbody>\n",
       "        <tr>\n",
       "            <td>00ab3eff1b5192e5f1a63bcecfee11c8</td>\n",
       "            <td>06b8999e2fba1a1fbc88172c00ba8bc7</td>\n",
       "            <td>861eff4711a542e4b93843c6dd7febb0</td>\n",
       "            <td>14409</td>\n",
       "            <td>franca</td>\n",
       "            <td>SP</td>\n",
       "        </tr>\n",
       "        <tr>\n",
       "            <td>00ee68308b45bc5e2660cd833c3f81cc</td>\n",
       "            <td>06b8999e2fba1a1fbc88172c00ba8bc7</td>\n",
       "            <td>861eff4711a542e4b93843c6dd7febb0</td>\n",
       "            <td>14409</td>\n",
       "            <td>franca</td>\n",
       "            <td>SP</td>\n",
       "        </tr>\n",
       "        <tr>\n",
       "            <td>010543a62bd80aa422851e79a3bc7540</td>\n",
       "            <td>06b8999e2fba1a1fbc88172c00ba8bc7</td>\n",
       "            <td>861eff4711a542e4b93843c6dd7febb0</td>\n",
       "            <td>14409</td>\n",
       "            <td>franca</td>\n",
       "            <td>SP</td>\n",
       "        </tr>\n",
       "        <tr>\n",
       "            <td>0249d282d911d23cb8b869ab49c99f53</td>\n",
       "            <td>06b8999e2fba1a1fbc88172c00ba8bc7</td>\n",
       "            <td>861eff4711a542e4b93843c6dd7febb0</td>\n",
       "            <td>14409</td>\n",
       "            <td>franca</td>\n",
       "            <td>SP</td>\n",
       "        </tr>\n",
       "        <tr>\n",
       "            <td>024b564ae893ce8e9bfa02c10a401ece</td>\n",
       "            <td>06b8999e2fba1a1fbc88172c00ba8bc7</td>\n",
       "            <td>861eff4711a542e4b93843c6dd7febb0</td>\n",
       "            <td>14409</td>\n",
       "            <td>franca</td>\n",
       "            <td>SP</td>\n",
       "        </tr>\n",
       "    </tbody>\n",
       "</table>"
      ],
      "text/plain": [
       "+----------------------------------+----------------------------------+----------------------------------+--------------------------+---------------+----------------+\n",
       "|            seller_id             |           customer_id            |        customer_unique_id        | customer_zip_code_prefix | customer_city | customer_state |\n",
       "+----------------------------------+----------------------------------+----------------------------------+--------------------------+---------------+----------------+\n",
       "| 00ab3eff1b5192e5f1a63bcecfee11c8 | 06b8999e2fba1a1fbc88172c00ba8bc7 | 861eff4711a542e4b93843c6dd7febb0 |          14409           |     franca    |       SP       |\n",
       "| 00ee68308b45bc5e2660cd833c3f81cc | 06b8999e2fba1a1fbc88172c00ba8bc7 | 861eff4711a542e4b93843c6dd7febb0 |          14409           |     franca    |       SP       |\n",
       "| 010543a62bd80aa422851e79a3bc7540 | 06b8999e2fba1a1fbc88172c00ba8bc7 | 861eff4711a542e4b93843c6dd7febb0 |          14409           |     franca    |       SP       |\n",
       "| 0249d282d911d23cb8b869ab49c99f53 | 06b8999e2fba1a1fbc88172c00ba8bc7 | 861eff4711a542e4b93843c6dd7febb0 |          14409           |     franca    |       SP       |\n",
       "| 024b564ae893ce8e9bfa02c10a401ece | 06b8999e2fba1a1fbc88172c00ba8bc7 | 861eff4711a542e4b93843c6dd7febb0 |          14409           |     franca    |       SP       |\n",
       "+----------------------------------+----------------------------------+----------------------------------+--------------------------+---------------+----------------+"
      ]
     },
     "execution_count": 26,
     "metadata": {},
     "output_type": "execute_result"
    }
   ],
   "source": [
    "%%sql\n",
    "SELECT distinct(seller_id),\n",
    "        c.*\n",
    "FROM sellers AS s\n",
    "JOIN customers AS c\n",
    "WHERE seller_city =  \"sao paulo\"\n",
    "LIMIT 5"
   ]
  },
  {
   "cell_type": "code",
   "execution_count": 27,
   "metadata": {},
   "outputs": [
    {
     "data": {
      "text/html": [
       "<span style=\"None\">Running query in &#x27;sqlite:///olist.sqlite&#x27;</span>"
      ],
      "text/plain": [
       "Running query in 'sqlite:///olist.sqlite'"
      ]
     },
     "metadata": {},
     "output_type": "display_data"
    },
    {
     "data": {
      "text/html": [
       "<table>\n",
       "    <thead>\n",
       "        <tr>\n",
       "            <th>s_id</th>\n",
       "            <th>customer_id</th>\n",
       "            <th>customer_unique_id</th>\n",
       "            <th>customer_zip_code_prefix</th>\n",
       "            <th>customer_city</th>\n",
       "            <th>customer_state</th>\n",
       "            <th>product_id</th>\n",
       "            <th>product_category_name</th>\n",
       "            <th>product_name_lenght</th>\n",
       "            <th>product_description_lenght</th>\n",
       "            <th>product_photos_qty</th>\n",
       "            <th>product_weight_g</th>\n",
       "            <th>product_length_cm</th>\n",
       "            <th>product_height_cm</th>\n",
       "            <th>product_width_cm</th>\n",
       "        </tr>\n",
       "    </thead>\n",
       "    <tbody>\n",
       "        <tr>\n",
       "            <td>00ab3eff1b5192e5f1a63bcecfee11c8</td>\n",
       "            <td>06b8999e2fba1a1fbc88172c00ba8bc7</td>\n",
       "            <td>861eff4711a542e4b93843c6dd7febb0</td>\n",
       "            <td>14409</td>\n",
       "            <td>franca</td>\n",
       "            <td>SP</td>\n",
       "            <td>1e9e8ef04dbcff4541ed26657ea517e5</td>\n",
       "            <td>perfumaria</td>\n",
       "            <td>40.0</td>\n",
       "            <td>287.0</td>\n",
       "            <td>1.0</td>\n",
       "            <td>225.0</td>\n",
       "            <td>16.0</td>\n",
       "            <td>10.0</td>\n",
       "            <td>14.0</td>\n",
       "        </tr>\n",
       "        <tr>\n",
       "            <td>00ee68308b45bc5e2660cd833c3f81cc</td>\n",
       "            <td>06b8999e2fba1a1fbc88172c00ba8bc7</td>\n",
       "            <td>861eff4711a542e4b93843c6dd7febb0</td>\n",
       "            <td>14409</td>\n",
       "            <td>franca</td>\n",
       "            <td>SP</td>\n",
       "            <td>1e9e8ef04dbcff4541ed26657ea517e5</td>\n",
       "            <td>perfumaria</td>\n",
       "            <td>40.0</td>\n",
       "            <td>287.0</td>\n",
       "            <td>1.0</td>\n",
       "            <td>225.0</td>\n",
       "            <td>16.0</td>\n",
       "            <td>10.0</td>\n",
       "            <td>14.0</td>\n",
       "        </tr>\n",
       "        <tr>\n",
       "            <td>010543a62bd80aa422851e79a3bc7540</td>\n",
       "            <td>06b8999e2fba1a1fbc88172c00ba8bc7</td>\n",
       "            <td>861eff4711a542e4b93843c6dd7febb0</td>\n",
       "            <td>14409</td>\n",
       "            <td>franca</td>\n",
       "            <td>SP</td>\n",
       "            <td>1e9e8ef04dbcff4541ed26657ea517e5</td>\n",
       "            <td>perfumaria</td>\n",
       "            <td>40.0</td>\n",
       "            <td>287.0</td>\n",
       "            <td>1.0</td>\n",
       "            <td>225.0</td>\n",
       "            <td>16.0</td>\n",
       "            <td>10.0</td>\n",
       "            <td>14.0</td>\n",
       "        </tr>\n",
       "        <tr>\n",
       "            <td>0249d282d911d23cb8b869ab49c99f53</td>\n",
       "            <td>06b8999e2fba1a1fbc88172c00ba8bc7</td>\n",
       "            <td>861eff4711a542e4b93843c6dd7febb0</td>\n",
       "            <td>14409</td>\n",
       "            <td>franca</td>\n",
       "            <td>SP</td>\n",
       "            <td>1e9e8ef04dbcff4541ed26657ea517e5</td>\n",
       "            <td>perfumaria</td>\n",
       "            <td>40.0</td>\n",
       "            <td>287.0</td>\n",
       "            <td>1.0</td>\n",
       "            <td>225.0</td>\n",
       "            <td>16.0</td>\n",
       "            <td>10.0</td>\n",
       "            <td>14.0</td>\n",
       "        </tr>\n",
       "        <tr>\n",
       "            <td>024b564ae893ce8e9bfa02c10a401ece</td>\n",
       "            <td>06b8999e2fba1a1fbc88172c00ba8bc7</td>\n",
       "            <td>861eff4711a542e4b93843c6dd7febb0</td>\n",
       "            <td>14409</td>\n",
       "            <td>franca</td>\n",
       "            <td>SP</td>\n",
       "            <td>1e9e8ef04dbcff4541ed26657ea517e5</td>\n",
       "            <td>perfumaria</td>\n",
       "            <td>40.0</td>\n",
       "            <td>287.0</td>\n",
       "            <td>1.0</td>\n",
       "            <td>225.0</td>\n",
       "            <td>16.0</td>\n",
       "            <td>10.0</td>\n",
       "            <td>14.0</td>\n",
       "        </tr>\n",
       "    </tbody>\n",
       "</table>"
      ],
      "text/plain": [
       "+----------------------------------+----------------------------------+----------------------------------+--------------------------+---------------+----------------+----------------------------------+-----------------------+---------------------+----------------------------+--------------------+------------------+-------------------+-------------------+------------------+\n",
       "|               s_id               |           customer_id            |        customer_unique_id        | customer_zip_code_prefix | customer_city | customer_state |            product_id            | product_category_name | product_name_lenght | product_description_lenght | product_photos_qty | product_weight_g | product_length_cm | product_height_cm | product_width_cm |\n",
       "+----------------------------------+----------------------------------+----------------------------------+--------------------------+---------------+----------------+----------------------------------+-----------------------+---------------------+----------------------------+--------------------+------------------+-------------------+-------------------+------------------+\n",
       "| 00ab3eff1b5192e5f1a63bcecfee11c8 | 06b8999e2fba1a1fbc88172c00ba8bc7 | 861eff4711a542e4b93843c6dd7febb0 |          14409           |     franca    |       SP       | 1e9e8ef04dbcff4541ed26657ea517e5 |       perfumaria      |         40.0        |           287.0            |        1.0         |      225.0       |        16.0       |        10.0       |       14.0       |\n",
       "| 00ee68308b45bc5e2660cd833c3f81cc | 06b8999e2fba1a1fbc88172c00ba8bc7 | 861eff4711a542e4b93843c6dd7febb0 |          14409           |     franca    |       SP       | 1e9e8ef04dbcff4541ed26657ea517e5 |       perfumaria      |         40.0        |           287.0            |        1.0         |      225.0       |        16.0       |        10.0       |       14.0       |\n",
       "| 010543a62bd80aa422851e79a3bc7540 | 06b8999e2fba1a1fbc88172c00ba8bc7 | 861eff4711a542e4b93843c6dd7febb0 |          14409           |     franca    |       SP       | 1e9e8ef04dbcff4541ed26657ea517e5 |       perfumaria      |         40.0        |           287.0            |        1.0         |      225.0       |        16.0       |        10.0       |       14.0       |\n",
       "| 0249d282d911d23cb8b869ab49c99f53 | 06b8999e2fba1a1fbc88172c00ba8bc7 | 861eff4711a542e4b93843c6dd7febb0 |          14409           |     franca    |       SP       | 1e9e8ef04dbcff4541ed26657ea517e5 |       perfumaria      |         40.0        |           287.0            |        1.0         |      225.0       |        16.0       |        10.0       |       14.0       |\n",
       "| 024b564ae893ce8e9bfa02c10a401ece | 06b8999e2fba1a1fbc88172c00ba8bc7 | 861eff4711a542e4b93843c6dd7febb0 |          14409           |     franca    |       SP       | 1e9e8ef04dbcff4541ed26657ea517e5 |       perfumaria      |         40.0        |           287.0            |        1.0         |      225.0       |        16.0       |        10.0       |       14.0       |\n",
       "+----------------------------------+----------------------------------+----------------------------------+--------------------------+---------------+----------------+----------------------------------+-----------------------+---------------------+----------------------------+--------------------+------------------+-------------------+-------------------+------------------+"
      ]
     },
     "execution_count": 27,
     "metadata": {},
     "output_type": "execute_result"
    }
   ],
   "source": [
    "%%sql\n",
    "SELECT distinct(seller_id) AS s_id,\n",
    "        c.*,\n",
    "        p.*\n",
    "FROM sellers AS s\n",
    "JOIN customers AS c\n",
    "JOIN products AS p\n",
    "WHERE seller_city =  \"sao paulo\"\n",
    "LIMIT 5"
   ]
  },
  {
   "cell_type": "code",
   "execution_count": 28,
   "metadata": {},
   "outputs": [],
   "source": [
    "conn = sqlite3.connect(\"olist.sqlite\")"
   ]
  },
  {
   "cell_type": "code",
   "execution_count": 29,
   "metadata": {},
   "outputs": [
    {
     "name": "stdout",
     "output_type": "stream",
     "text": [
      "\n",
      "        SELECT distinct(seller_id) AS s_id,\n",
      "            c.*,\n",
      "            p.*\n",
      "        FROM sellers AS s\n",
      "        JOIN customers AS c\n",
      "        JOIN products AS p\n",
      "        WHERE seller_city =  \"sao paulo\"\n",
      "        \n"
     ]
    }
   ],
   "source": [
    "query = \"\"\"\n",
    "        SELECT distinct(seller_id) AS s_id,\n",
    "            c.*,\n",
    "            p.*\n",
    "        FROM sellers AS s\n",
    "        JOIN customers AS c\n",
    "        JOIN products AS p\n",
    "        WHERE seller_city =  \"sao paulo\"\n",
    "        \"\"\"\n",
    "print(query)"
   ]
  },
  {
   "cell_type": "code",
   "execution_count": null,
   "metadata": {},
   "outputs": [],
   "source": []
  }
 ],
 "metadata": {
  "kernelspec": {
   "display_name": "Python 3",
   "language": "python",
   "name": "python3"
  },
  "language_info": {
   "codemirror_mode": {
    "name": "ipython",
    "version": 3
   },
   "file_extension": ".py",
   "mimetype": "text/x-python",
   "name": "python",
   "nbconvert_exporter": "python",
   "pygments_lexer": "ipython3",
   "version": "3.10.14"
  }
 },
 "nbformat": 4,
 "nbformat_minor": 4
}
